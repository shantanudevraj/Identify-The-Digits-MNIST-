{
 "cells": [
  {
   "cell_type": "code",
   "execution_count": 52,
   "metadata": {},
   "outputs": [
    {
     "name": "stdout",
     "output_type": "stream",
     "text": [
      "Populating the interactive namespace from numpy and matplotlib\n"
     ]
    },
    {
     "name": "stderr",
     "output_type": "stream",
     "text": [
      "C:\\Users\\hp\\Anaconda3\\lib\\site-packages\\IPython\\core\\magics\\pylab.py:160: UserWarning: pylab import has clobbered these variables: ['test', 'seed']\n",
      "`%matplotlib` prevents importing * from pylab and numpy\n",
      "  \"\\n`%matplotlib` prevents importing * from pylab and numpy\"\n"
     ]
    }
   ],
   "source": [
    "%pylab inline\n",
    "import numpy as np\n",
    "import pandas as pd\n",
    "import imageio\n",
    "import os\n",
    "from sklearn.metrics import accuracy_score\n",
    "import tensorflow as tf\n",
    "import keras\n"
   ]
  },
  {
   "cell_type": "code",
   "execution_count": 75,
   "metadata": {},
   "outputs": [],
   "source": [
    "from keras.models import Sequential\n",
    "from keras.layers import Dense, Activation, Dropout, Convolution2D, Flatten, MaxPooling2D, InputLayer"
   ]
  },
  {
   "cell_type": "code",
   "execution_count": 53,
   "metadata": {},
   "outputs": [],
   "source": [
    "seed=128\n",
    "rng=np.random.RandomState(seed)"
   ]
  },
  {
   "cell_type": "code",
   "execution_count": 54,
   "metadata": {},
   "outputs": [],
   "source": [
    "root_dir=os.path.abspath('C:/Users/hp/Desktop/Analytics Vidhya/Identify the Digits')\n",
    "data_dir=os.path.join(root_dir,'data')\n",
    "sub_dir=os.path.join(root_dir,'sub')"
   ]
  },
  {
   "cell_type": "code",
   "execution_count": 55,
   "metadata": {},
   "outputs": [
    {
     "data": {
      "text/plain": [
       "True"
      ]
     },
     "execution_count": 55,
     "metadata": {},
     "output_type": "execute_result"
    }
   ],
   "source": [
    "#check for existence\n",
    "os.path.exists(root_dir)\n",
    "os.path.exists(data_dir)\n",
    "#os.path.exists(sub_dir)"
   ]
  },
  {
   "cell_type": "code",
   "execution_count": 56,
   "metadata": {},
   "outputs": [],
   "source": [
    "#load datasets\n",
    "train=pd.read_csv(os.path.join(data_dir,'Train','train.csv'))\n",
    "test=pd.read_csv(os.path.join(data_dir,'Test.csv'))\n",
    "sample_submission=pd.read_csv(os.path.join(data_dir,'Sample_Submission.csv'))"
   ]
  },
  {
   "cell_type": "code",
   "execution_count": 57,
   "metadata": {},
   "outputs": [
    {
     "data": {
      "text/html": [
       "<div>\n",
       "<style scoped>\n",
       "    .dataframe tbody tr th:only-of-type {\n",
       "        vertical-align: middle;\n",
       "    }\n",
       "\n",
       "    .dataframe tbody tr th {\n",
       "        vertical-align: top;\n",
       "    }\n",
       "\n",
       "    .dataframe thead th {\n",
       "        text-align: right;\n",
       "    }\n",
       "</style>\n",
       "<table border=\"1\" class=\"dataframe\">\n",
       "  <thead>\n",
       "    <tr style=\"text-align: right;\">\n",
       "      <th></th>\n",
       "      <th>filename</th>\n",
       "      <th>label</th>\n",
       "    </tr>\n",
       "  </thead>\n",
       "  <tbody>\n",
       "    <tr>\n",
       "      <th>0</th>\n",
       "      <td>0.png</td>\n",
       "      <td>4</td>\n",
       "    </tr>\n",
       "    <tr>\n",
       "      <th>1</th>\n",
       "      <td>1.png</td>\n",
       "      <td>9</td>\n",
       "    </tr>\n",
       "    <tr>\n",
       "      <th>2</th>\n",
       "      <td>2.png</td>\n",
       "      <td>1</td>\n",
       "    </tr>\n",
       "    <tr>\n",
       "      <th>3</th>\n",
       "      <td>3.png</td>\n",
       "      <td>7</td>\n",
       "    </tr>\n",
       "    <tr>\n",
       "      <th>4</th>\n",
       "      <td>4.png</td>\n",
       "      <td>3</td>\n",
       "    </tr>\n",
       "  </tbody>\n",
       "</table>\n",
       "</div>"
      ],
      "text/plain": [
       "  filename  label\n",
       "0    0.png      4\n",
       "1    1.png      9\n",
       "2    2.png      1\n",
       "3    3.png      7\n",
       "4    4.png      3"
      ]
     },
     "execution_count": 57,
     "metadata": {},
     "output_type": "execute_result"
    }
   ],
   "source": [
    "train.head()"
   ]
  },
  {
   "cell_type": "code",
   "execution_count": 58,
   "metadata": {},
   "outputs": [
    {
     "data": {
      "image/png": "[encoded data removed]",
      "text/plain": [
       "<Figure size 432x288 with 1 Axes>"
      ]
     },
     "metadata": {
      "needs_background": "light"
     },
     "output_type": "display_data"
    }
   ],
   "source": [
    "img_name=rng.choice(train.filename)\n",
    "filepath=os.path.join(data_dir,'Train','Images','train',img_name)\n",
    "img=imageio.imread(filepath,as_gray=True)\n",
    "pylab.imshow(img,cmap='gray')\n",
    "pylab.axis('off')\n",
    "pylab.show()"
   ]
  },
  {
   "cell_type": "code",
   "execution_count": 59,
   "metadata": {},
   "outputs": [
    {
     "data": {
      "text/plain": [
       "Array([[  0.,   0.,   0.,   0.,   0.,   0.,   0.,   0.,   0.,   0.,   0.,\n",
       "          0.,   0.,   0.,   0.,   0.,   0.,   0.,   0.,   0.,   0.,   0.,\n",
       "          0.,   0.,   0.,   0.,   0.,   0.],\n",
       "       [  0.,   0.,   0.,   0.,   0.,   0.,   0.,   0.,   0.,   0.,   0.,\n",
       "          0.,   0.,   0.,   0.,   0.,   0.,   0.,   0.,   0.,   0.,   0.,\n",
       "          0.,   0.,   0.,   0.,   0.,   0.],\n",
       "       [  0.,   0.,   0.,   0.,   0.,   0.,   0.,   0.,   0.,   0.,   0.,\n",
       "          0.,   0.,   0.,   0.,   0.,   0.,   0.,   0.,   0.,   0.,   0.,\n",
       "          0.,   0.,   0.,   0.,   0.,   0.],\n",
       "       [  0.,   0.,   0.,   0.,   0.,   0.,   0.,   0.,   0.,   0.,   0.,\n",
       "          0.,   0.,   0.,   0.,   0.,   0.,   0.,   0.,   0.,   0.,   0.,\n",
       "          0.,   0.,   0.,   0.,   0.,   0.],\n",
       "       [  0.,   0.,   0.,   0.,   0.,   0.,   0.,   0.,   0.,   0.,   0.,\n",
       "          0.,   0.,   0.,   0.,   0.,   0.,   0.,   0.,   0.,   0.,   0.,\n",
       "          0.,   0.,   0.,   0.,   0.,   0.],\n",
       "       [  0.,   0.,   0.,   0.,   0.,   0.,   0.,   0.,   0.,  36., 163.,\n",
       "        254., 254., 144.,  58.,   0.,   0.,   0.,   0.,   0.,   0.,   0.,\n",
       "          0.,   0.,   0.,   0.,   0.,   0.],\n",
       "       [  0.,   0.,   0.,   0.,   0.,   0.,   0.,   0.,  92., 247., 242.,\n",
       "        187., 187., 225., 233.,  60.,   0.,   0.,   0.,   0.,   0.,   0.,\n",
       "          0.,   0.,   0.,   0.,   0.,   0.],\n",
       "       [  0.,   0.,   0.,   0.,   0.,   0.,   0., 137., 243., 249.,  79.,\n",
       "          0.,   0.,  40., 223., 193.,   4.,   0.,   0.,   0.,   0.,   0.,\n",
       "          0.,   0.,   0.,   0.,   0.,   0.],\n",
       "       [  0.,   0.,   0.,   0.,   0.,   0.,   0., 151., 192.,  19.,   0.,\n",
       "          0.,   0.,   0., 120., 253.,  69.,   0.,   0.,   0.,   0.,   0.,\n",
       "          0.,   0.,   0.,   0.,   0.,   0.],\n",
       "       [  0.,   0.,   0.,   0.,   0.,   0.,   0.,   0.,   0.,   0.,   0.,\n",
       "          0.,   0.,   0.,  67., 253., 121.,   0.,   0.,   0.,   0.,   0.,\n",
       "          0.,   0.,   0.,   0.,   0.,   0.],\n",
       "       [  0.,   0.,   0.,   0.,   0.,   0.,   0.,   0.,   0.,   0.,   0.,\n",
       "          0.,   0.,   0.,  67., 253., 121.,   0.,   0.,   0.,   0.,   0.,\n",
       "          0.,   0.,   0.,   0.,   0.,   0.],\n",
       "       [  0.,   0.,   0.,   0.,   0.,   0.,   0.,   0.,   0.,   0.,   0.,\n",
       "          0.,   0.,   2., 171., 253., 121.,   0.,   0.,   0.,   0.,   0.,\n",
       "          0.,   0.,   0.,   0.,   0.,   0.],\n",
       "       [  0.,   0.,   0.,   0.,   0.,   0.,   0.,   0.,   0.,   0.,   0.,\n",
       "          0.,   0.,  34., 253., 253., 121.,   0.,   0.,   0.,   0.,   0.,\n",
       "          0.,   0.,   0.,   0.,   0.,   0.],\n",
       "       [  0.,   0.,   0.,   0.,   0.,   0.,   0.,   0.,   0.,   0.,   0.,\n",
       "          0.,   0.,  68., 253., 253.,  39.,   0.,   0.,   0.,   0.,   0.,\n",
       "          0.,   0.,   0.,   0.,   0.,   0.],\n",
       "       [  0.,   0.,   0.,   0.,   0.,   0.,   0.,   0.,   0.,   0.,   0.,\n",
       "          0.,   0., 144., 253., 210.,   6.,   0.,   0.,   0.,   0.,   0.,\n",
       "          0.,   0.,   0.,   0.,   0.,   0.],\n",
       "       [  0.,   0.,   0.,   0.,   0.,   0.,   0.,   0.,   0.,   0.,   0.,\n",
       "          0.,   0.,  81., 255., 254.,  88.,   0.,   0.,   0.,   0.,   0.,\n",
       "          0.,   0.,   0.,   0.,   0.,   0.],\n",
       "       [  0.,   0.,   0.,   0.,   0.,   0.,   0.,   0.,   0.,   0.,   0.,\n",
       "          0.,   0.,  11.,  77., 194., 247.,  91.,   0.,   0.,   0.,   0.,\n",
       "          0.,   0.,   0.,   0.,   0.,   0.],\n",
       "       [  0.,   0.,   0.,   0.,   0.,   0.,   0.,   0.,   0.,   0.,   0.,\n",
       "          0.,   0.,   0.,   0.,  17., 202., 198.,   0.,   0.,   0.,   0.,\n",
       "          0.,   0.,   0.,   0.,   0.,   0.],\n",
       "       [  0.,   0.,   0.,   0.,   0.,   0.,   0.,   0.,   0.,   0.,   0.,\n",
       "          0.,   0.,   0.,   0.,   0., 133., 251.,  52.,   0.,   0.,   0.,\n",
       "          0.,   0.,   0.,   0.,   0.,   0.],\n",
       "       [  0.,   0.,   0.,   0.,   0.,   0.,   0.,   0.,   0.,   0.,   0.,\n",
       "          0.,   0.,   0.,   0.,   0., 205., 253.,  55.,   0.,   0.,   0.,\n",
       "          0.,   0.,   0.,   0.,   0.,   0.],\n",
       "       [  0.,   0.,   0.,   0.,   0.,   0.,   0.,   0.,   0.,   0.,   0.,\n",
       "          0.,   0.,   0.,   0., 118., 251., 210.,  12.,   0.,   0.,   0.,\n",
       "          0.,   0.,   0.,   0.,   0.,   0.],\n",
       "       [  0.,   0.,   0.,   0.,   0.,   0.,   0.,   0.,   0.,   0.,   0.,\n",
       "          0.,   0.,  16., 151., 250., 252., 141.,   0.,   0.,   0.,   0.,\n",
       "          0.,   0.,   0.,   0.,   0.,   0.],\n",
       "       [  0.,   0.,   0.,   0.,   0.,   0.,   0.,   0.,   0.,   7., 155.,\n",
       "         73., 141., 168., 253., 253., 163.,   0.,   0.,   0.,   0.,   0.,\n",
       "          0.,   0.,   0.,   0.,   0.,   0.],\n",
       "       [  0.,   0.,   0.,   0.,   0.,   0.,   0.,   0.,   0.,   8., 189.,\n",
       "        253., 253., 254., 253., 189.,  36.,   0.,   0.,   0.,   0.,   0.,\n",
       "          0.,   0.,   0.,   0.,   0.,   0.],\n",
       "       [  0.,   0.,   0.,   0.,   0.,   0.,   0.,   0.,   0.,   0.,   6.,\n",
       "        147., 253., 192., 143.,  25.,   0.,   0.,   0.,   0.,   0.,   0.,\n",
       "          0.,   0.,   0.,   0.,   0.,   0.],\n",
       "       [  0.,   0.,   0.,   0.,   0.,   0.,   0.,   0.,   0.,   0.,   0.,\n",
       "          0.,   0.,   0.,   0.,   0.,   0.,   0.,   0.,   0.,   0.,   0.,\n",
       "          0.,   0.,   0.,   0.,   0.,   0.],\n",
       "       [  0.,   0.,   0.,   0.,   0.,   0.,   0.,   0.,   0.,   0.,   0.,\n",
       "          0.,   0.,   0.,   0.,   0.,   0.,   0.,   0.,   0.,   0.,   0.,\n",
       "          0.,   0.,   0.,   0.,   0.,   0.],\n",
       "       [  0.,   0.,   0.,   0.,   0.,   0.,   0.,   0.,   0.,   0.,   0.,\n",
       "          0.,   0.,   0.,   0.,   0.,   0.,   0.,   0.,   0.,   0.,   0.,\n",
       "          0.,   0.,   0.,   0.,   0.,   0.]], dtype=float32)"
      ]
     },
     "execution_count": 59,
     "metadata": {},
     "output_type": "execute_result"
    }
   ],
   "source": [
    "img"
   ]
  },
  {
   "cell_type": "code",
   "execution_count": 60,
   "metadata": {},
   "outputs": [],
   "source": [
    "#store all images into numpy arrays\n",
    "temp=[]\n",
    "for img_name in train.filename:\n",
    "    image_path=os.path.join(data_dir,'Train','Images','train',img_name)\n",
    "    img=imageio.imread(image_path,as_gray=True)\n",
    "    img=img.astype('float32')\n",
    "    temp.append(img)\n",
    "    train_x=np.stack(temp)\n",
    "    train_x /= 255.0\n",
    "    train_x=train_x.reshape(-1,784).astype('float32')\n",
    "    \n",
    "\n",
    "temp=[]\n",
    "for img_name in test.filename:\n",
    "    image_path=os.path.join(data_dir,'Train','Images','test',img_name)\n",
    "    img=imageio.imread(image_path,as_gray=True)\n",
    "    img=img.astype('float32')\n",
    "    temp.append(img)\n",
    "    test_x=np.stack(temp)\n",
    "    test_x /= 255.0\n",
    "    test_x=test_x.reshape(-1,784).astype('float32')    "
   ]
  },
  {
   "cell_type": "code",
   "execution_count": 61,
   "metadata": {},
   "outputs": [],
   "source": [
    "train_y=keras.utils.np_utils.to_categorical(train.label.values)"
   ]
  },
  {
   "cell_type": "code",
   "execution_count": 62,
   "metadata": {},
   "outputs": [
    {
     "data": {
      "text/plain": [
       "(49000, 10)"
      ]
     },
     "execution_count": 62,
     "metadata": {},
     "output_type": "execute_result"
    }
   ],
   "source": [
    "train_y.shape"
   ]
  },
  {
   "cell_type": "code",
   "execution_count": 63,
   "metadata": {},
   "outputs": [
    {
     "data": {
      "text/plain": [
       "(49000, 784)"
      ]
     },
     "execution_count": 63,
     "metadata": {},
     "output_type": "execute_result"
    }
   ],
   "source": [
    "train_x.shape"
   ]
  },
  {
   "cell_type": "code",
   "execution_count": 64,
   "metadata": {},
   "outputs": [
    {
     "data": {
      "text/plain": [
       "34300    3\n",
       "34301    1\n",
       "34302    6\n",
       "34303    8\n",
       "34304    3\n",
       "        ..\n",
       "48995    2\n",
       "48996    4\n",
       "48997    9\n",
       "48998    3\n",
       "48999    0\n",
       "Name: label, Length: 14700, dtype: int64"
      ]
     },
     "execution_count": 64,
     "metadata": {},
     "output_type": "execute_result"
    }
   ],
   "source": [
    "#split size of 70:30\n",
    "split_size=int(train_x.shape[0]*0.7)\n",
    "train_x,val_x=train_x[:split_size],train_x[split_size:]\n",
    "train_y,val_y=train_y[:split_size],train_y[split_size:]\n",
    "\n",
    "train.label.loc[split_size:]"
   ]
  },
  {
   "cell_type": "code",
   "execution_count": 65,
   "metadata": {},
   "outputs": [
    {
     "data": {
      "text/plain": [
       "34300"
      ]
     },
     "execution_count": 65,
     "metadata": {},
     "output_type": "execute_result"
    }
   ],
   "source": [
    "split_size"
   ]
  },
  {
   "cell_type": "code",
   "execution_count": 66,
   "metadata": {},
   "outputs": [
    {
     "data": {
      "text/plain": [
       "(34300, 784)"
      ]
     },
     "execution_count": 66,
     "metadata": {},
     "output_type": "execute_result"
    }
   ],
   "source": [
    "train_x.shape"
   ]
  },
  {
   "cell_type": "code",
   "execution_count": 67,
   "metadata": {},
   "outputs": [
    {
     "data": {
      "text/plain": [
       "(14700, 784)"
      ]
     },
     "execution_count": 67,
     "metadata": {},
     "output_type": "execute_result"
    }
   ],
   "source": [
    "val_x.shape"
   ]
  },
  {
   "cell_type": "code",
   "execution_count": 68,
   "metadata": {},
   "outputs": [
    {
     "data": {
      "text/plain": [
       "(34300, 10)"
      ]
     },
     "execution_count": 68,
     "metadata": {},
     "output_type": "execute_result"
    }
   ],
   "source": [
    "train_y.shape"
   ]
  },
  {
   "cell_type": "code",
   "execution_count": 69,
   "metadata": {},
   "outputs": [
    {
     "data": {
      "text/plain": [
       "(14700, 10)"
      ]
     },
     "execution_count": 69,
     "metadata": {},
     "output_type": "execute_result"
    }
   ],
   "source": [
    "val_y.shape"
   ]
  },
  {
   "cell_type": "code",
   "execution_count": 70,
   "metadata": {},
   "outputs": [
    {
     "name": "stderr",
     "output_type": "stream",
     "text": [
      "C:\\Users\\hp\\Anaconda3\\lib\\site-packages\\ipykernel_launcher.py:12: UserWarning: Update your `Dense` call to the Keras 2 API: `Dense(input_dim=784, activation=\"relu\", units=50)`\n",
      "  if sys.path[0] == '':\n",
      "C:\\Users\\hp\\Anaconda3\\lib\\site-packages\\ipykernel_launcher.py:12: UserWarning: Update your `Dense` call to the Keras 2 API: `Dense(input_dim=50, activation=\"softmax\", units=10)`\n",
      "  if sys.path[0] == '':\n"
     ]
    }
   ],
   "source": [
    "#Model Building\n",
    "# define vars \n",
    "input_num_units = 784 \n",
    "hidden_num_units = 50 \n",
    "output_num_units = 10 \n",
    "epochs = 5 \n",
    "batch_size = 128 \n",
    "# import keras modules \n",
    "from keras.models import Sequential \n",
    "from keras.layers import Dense \n",
    "# create model \n",
    "model = Sequential([  Dense(output_dim=hidden_num_units, input_dim=input_num_units, activation='relu'),  Dense(output_dim=output_num_units, input_dim=hidden_num_units, activation='softmax'), ]) \n",
    "# compile the model with necessary attributes\n",
    "model.compile(loss='categorical_crossentropy', optimizer='adam', metrics=['accuracy'])"
   ]
  },
  {
   "cell_type": "code",
   "execution_count": 71,
   "metadata": {},
   "outputs": [
    {
     "name": "stdout",
     "output_type": "stream",
     "text": [
      "Train on 34300 samples, validate on 14700 samples\n",
      "Epoch 1/5\n",
      "34300/34300 [==============================] - 3s 91us/step - loss: 0.5510 - accuracy: 0.8531 - val_loss: 0.3180 - val_accuracy: 0.9103\n",
      "Epoch 2/5\n",
      "34300/34300 [==============================] - 1s 34us/step - loss: 0.2675 - accuracy: 0.9248 - val_loss: 0.2566 - val_accuracy: 0.9277\n",
      "Epoch 3/5\n",
      "34300/34300 [==============================] - 1s 34us/step - loss: 0.2177 - accuracy: 0.9383 - val_loss: 0.2291 - val_accuracy: 0.9358\n",
      "Epoch 4/5\n",
      "34300/34300 [==============================] - 1s 34us/step - loss: 0.1847 - accuracy: 0.9487 - val_loss: 0.2041 - val_accuracy: 0.9417\n",
      "Epoch 5/5\n",
      "34300/34300 [==============================] - 1s 34us/step - loss: 0.1604 - accuracy: 0.9544 - val_loss: 0.1851 - val_accuracy: 0.9478\n"
     ]
    }
   ],
   "source": [
    "trained_model = model.fit(train_x, train_y, epochs=epochs, batch_size=batch_size, validation_data=(val_x, val_y))"
   ]
  },
  {
   "cell_type": "code",
   "execution_count": 73,
   "metadata": {},
   "outputs": [
    {
     "name": "stdout",
     "output_type": "stream",
     "text": [
      "Prediction is:  2\n"
     ]
    },
    {
     "data": {
      "image/png": "[encoded data removed]",
      "text/plain": [
       "<Figure size 432x288 with 1 Axes>"
      ]
     },
     "metadata": {
      "needs_background": "light"
     },
     "output_type": "display_data"
    }
   ],
   "source": [
    "#Model Evaluation\n",
    "pred = model.predict_classes(test_x) \n",
    "img_name = rng.choice(test.filename) \n",
    "filepath = os.path.join(data_dir, 'Train', 'Images', 'test', img_name) \n",
    "img = imageio.imread(filepath, as_gray=True) \n",
    "test_index = int(img_name.split('.')[0]) - train.shape[0] \n",
    "print(\"Prediction is: \", pred[test_index] )\n",
    "pylab.imshow(img, cmap='gray')\n",
    "pylab.axis('off')\n",
    "pylab.show() "
   ]
  },
  {
   "cell_type": "code",
   "execution_count": 74,
   "metadata": {},
   "outputs": [],
   "source": [
    "sample_submission.filename = test.filename\n",
    "sample_submission.label = pred\n",
    "sample_submission.to_csv(os.path.join(data_dir, 'Sample_Submission.csv'), index=False)"
   ]
  },
  {
   "cell_type": "code",
   "execution_count": 76,
   "metadata": {},
   "outputs": [
    {
     "name": "stderr",
     "output_type": "stream",
     "text": [
      "C:\\Users\\hp\\Anaconda3\\lib\\site-packages\\ipykernel_launcher.py:7: UserWarning: Update your `Dense` call to the Keras 2 API: `Dense(input_dim=784, activation=\"relu\", units=500)`\n",
      "  import sys\n",
      "C:\\Users\\hp\\Anaconda3\\lib\\site-packages\\ipykernel_launcher.py:7: UserWarning: Update your `Dense` call to the Keras 2 API: `Dense(input_dim=500, activation=\"softmax\", units=10)`\n",
      "  import sys\n"
     ]
    }
   ],
   "source": [
    "#make model wide\n",
    "input_num_units = 784 \n",
    "hidden_num_units = 500 \n",
    "output_num_units = 10\n",
    "epochs = 5\n",
    "batch_size = 128 \n",
    "wide_model = Sequential([ Dense(output_dim=hidden_num_units, input_dim=input_num_units, activation='relu'),  Dense(output_dim=output_num_units, input_dim=hidden_num_units, activation='softmax'), ])"
   ]
  },
  {
   "cell_type": "code",
   "execution_count": 77,
   "metadata": {},
   "outputs": [
    {
     "name": "stdout",
     "output_type": "stream",
     "text": [
      "Train on 34300 samples, validate on 14700 samples\n",
      "Epoch 1/5\n",
      "34300/34300 [==============================] - 4s 124us/step - loss: 0.3427 - accuracy: 0.9033 - val_loss: 0.2063 - val_accuracy: 0.9399\n",
      "Epoch 2/5\n",
      "34300/34300 [==============================] - 4s 114us/step - loss: 0.1445 - accuracy: 0.9582 - val_loss: 0.1401 - val_accuracy: 0.9591\n",
      "Epoch 3/5\n",
      "34300/34300 [==============================] - 4s 123us/step - loss: 0.0949 - accuracy: 0.9718 - val_loss: 0.1128 - val_accuracy: 0.9667\n",
      "Epoch 4/5\n",
      "34300/34300 [==============================] - 5s 132us/step - loss: 0.0679 - accuracy: 0.9807 - val_loss: 0.1061 - val_accuracy: 0.9682\n",
      "Epoch 5/5\n",
      "34300/34300 [==============================] - 4s 128us/step - loss: 0.0493 - accuracy: 0.9860 - val_loss: 0.0941 - val_accuracy: 0.9718\n"
     ]
    }
   ],
   "source": [
    "wide_model.compile(loss='categorical_crossentropy', optimizer='adam', metrics=['accuracy']) \n",
    "trained_model_500 = wide_model.fit(train_x, train_y, epochs=epochs, batch_size=batch_size, validation_data=(val_x, val_y))"
   ]
  },
  {
   "cell_type": "code",
   "execution_count": 78,
   "metadata": {},
   "outputs": [
    {
     "name": "stderr",
     "output_type": "stream",
     "text": [
      "C:\\Users\\hp\\Anaconda3\\lib\\site-packages\\ipykernel_launcher.py:11: UserWarning: Update your `Dense` call to the Keras 2 API: `Dense(input_dim=784, activation=\"relu\", units=50)`\n",
      "  # This is added back by InteractiveShellApp.init_path()\n",
      "C:\\Users\\hp\\Anaconda3\\lib\\site-packages\\ipykernel_launcher.py:12: UserWarning: Update your `Dense` call to the Keras 2 API: `Dense(input_dim=50, activation=\"relu\", units=50)`\n",
      "  if sys.path[0] == '':\n",
      "C:\\Users\\hp\\Anaconda3\\lib\\site-packages\\ipykernel_launcher.py:13: UserWarning: Update your `Dense` call to the Keras 2 API: `Dense(input_dim=50, activation=\"relu\", units=50)`\n",
      "  del sys.path[0]\n",
      "C:\\Users\\hp\\Anaconda3\\lib\\site-packages\\ipykernel_launcher.py:14: UserWarning: Update your `Dense` call to the Keras 2 API: `Dense(input_dim=50, activation=\"relu\", units=50)`\n",
      "  \n",
      "C:\\Users\\hp\\Anaconda3\\lib\\site-packages\\ipykernel_launcher.py:15: UserWarning: Update your `Dense` call to the Keras 2 API: `Dense(input_dim=50, activation=\"relu\", units=50)`\n",
      "  from ipykernel import kernelapp as app\n",
      "C:\\Users\\hp\\Anaconda3\\lib\\site-packages\\ipykernel_launcher.py:16: UserWarning: Update your `Dense` call to the Keras 2 API: `Dense(input_dim=50, activation=\"softmax\", units=10)`\n",
      "  app.launch_new_instance()\n"
     ]
    }
   ],
   "source": [
    "#make model deep\n",
    "input_num_units = 784\n",
    "hidden1_num_units = 50 \n",
    "hidden2_num_units = 50 \n",
    "hidden3_num_units = 50\n",
    "hidden4_num_units = 50\n",
    "hidden5_num_units = 50 \n",
    "output_num_units = 10 \n",
    "epochs = 50 \n",
    "batch_size = 128 \n",
    "deep_model = Sequential([ Dense(output_dim=hidden1_num_units, input_dim=input_num_units, activation='relu'), Dropout(0.2), \n",
    "                         Dense(output_dim=hidden2_num_units, input_dim=hidden1_num_units, activation='relu'), Dropout(0.2), \n",
    "                         Dense(output_dim=hidden3_num_units, input_dim=hidden2_num_units, activation='relu'), Dropout(0.2), \n",
    "                         Dense(output_dim=hidden4_num_units, input_dim=hidden3_num_units, activation='relu'), Dropout(0.2), \n",
    "                         Dense(output_dim=hidden5_num_units, input_dim=hidden4_num_units, activation='relu'), Dropout(0.2), \n",
    "                         Dense(output_dim=output_num_units, input_dim=hidden5_num_units, activation='softmax'), ])\n",
    "#Dropout is a method used to deal with overfitting"
   ]
  },
  {
   "cell_type": "code",
   "execution_count": 79,
   "metadata": {},
   "outputs": [
    {
     "name": "stdout",
     "output_type": "stream",
     "text": [
      "Train on 34300 samples, validate on 14700 samples\n",
      "Epoch 1/50\n",
      "34300/34300 [==============================] - 4s 103us/step - loss: 1.1190 - accuracy: 0.6090 - val_loss: 0.3751 - val_accuracy: 0.8941\n",
      "Epoch 2/50\n",
      "34300/34300 [==============================] - 2s 66us/step - loss: 0.4743 - accuracy: 0.8627 - val_loss: 0.2688 - val_accuracy: 0.9280\n",
      "Epoch 3/50\n",
      "34300/34300 [==============================] - 2s 62us/step - loss: 0.3705 - accuracy: 0.8999 - val_loss: 0.2282 - val_accuracy: 0.9370\n",
      "Epoch 4/50\n",
      "34300/34300 [==============================] - 2s 62us/step - loss: 0.3156 - accuracy: 0.9163 - val_loss: 0.2129 - val_accuracy: 0.9430\n",
      "Epoch 5/50\n",
      "34300/34300 [==============================] - 2s 72us/step - loss: 0.2785 - accuracy: 0.9265 - val_loss: 0.2068 - val_accuracy: 0.9432\n",
      "Epoch 6/50\n",
      "34300/34300 [==============================] - 2s 70us/step - loss: 0.2698 - accuracy: 0.9285 - val_loss: 0.1993 - val_accuracy: 0.9478\n",
      "Epoch 7/50\n",
      "34300/34300 [==============================] - 2s 67us/step - loss: 0.2478 - accuracy: 0.9348 - val_loss: 0.1964 - val_accuracy: 0.9481\n",
      "Epoch 8/50\n",
      "34300/34300 [==============================] - 2s 62us/step - loss: 0.2307 - accuracy: 0.9398 - val_loss: 0.1804 - val_accuracy: 0.9519\n",
      "Epoch 9/50\n",
      "34300/34300 [==============================] - 2s 69us/step - loss: 0.2209 - accuracy: 0.9432 - val_loss: 0.1753 - val_accuracy: 0.9531\n",
      "Epoch 10/50\n",
      "34300/34300 [==============================] - 2s 66us/step - loss: 0.2115 - accuracy: 0.9447 - val_loss: 0.1764 - val_accuracy: 0.9529\n",
      "Epoch 11/50\n",
      "34300/34300 [==============================] - 2s 62us/step - loss: 0.1987 - accuracy: 0.9472 - val_loss: 0.1751 - val_accuracy: 0.9536\n",
      "Epoch 12/50\n",
      "34300/34300 [==============================] - 3s 75us/step - loss: 0.1988 - accuracy: 0.9474 - val_loss: 0.1819 - val_accuracy: 0.9516\n",
      "Epoch 13/50\n",
      "34300/34300 [==============================] - 2s 73us/step - loss: 0.1853 - accuracy: 0.9516 - val_loss: 0.1821 - val_accuracy: 0.9531\n",
      "Epoch 14/50\n",
      "34300/34300 [==============================] - 2s 65us/step - loss: 0.1879 - accuracy: 0.9519 - val_loss: 0.1636 - val_accuracy: 0.9569\n",
      "Epoch 15/50\n",
      "34300/34300 [==============================] - 2s 67us/step - loss: 0.1808 - accuracy: 0.9517 - val_loss: 0.1789 - val_accuracy: 0.9531\n",
      "Epoch 16/50\n",
      "34300/34300 [==============================] - 3s 78us/step - loss: 0.1753 - accuracy: 0.9532 - val_loss: 0.1678 - val_accuracy: 0.9582\n",
      "Epoch 17/50\n",
      "34300/34300 [==============================] - 2s 64us/step - loss: 0.1659 - accuracy: 0.9573 - val_loss: 0.1650 - val_accuracy: 0.9575\n",
      "Epoch 18/50\n",
      "34300/34300 [==============================] - 2s 69us/step - loss: 0.1618 - accuracy: 0.9571 - val_loss: 0.1709 - val_accuracy: 0.9562\n",
      "Epoch 19/50\n",
      "34300/34300 [==============================] - 2s 64us/step - loss: 0.1659 - accuracy: 0.9558 - val_loss: 0.1680 - val_accuracy: 0.9586\n",
      "Epoch 20/50\n",
      "34300/34300 [==============================] - 2s 64us/step - loss: 0.1568 - accuracy: 0.9593 - val_loss: 0.1607 - val_accuracy: 0.9592\n",
      "Epoch 21/50\n",
      "34300/34300 [==============================] - 2s 60us/step - loss: 0.1517 - accuracy: 0.9597 - val_loss: 0.1546 - val_accuracy: 0.9600\n",
      "Epoch 22/50\n",
      "34300/34300 [==============================] - 2s 63us/step - loss: 0.1519 - accuracy: 0.9599 - val_loss: 0.1565 - val_accuracy: 0.9605\n",
      "Epoch 23/50\n",
      "34300/34300 [==============================] - 2s 68us/step - loss: 0.1474 - accuracy: 0.9603 - val_loss: 0.1610 - val_accuracy: 0.9597\n",
      "Epoch 24/50\n",
      "34300/34300 [==============================] - 2s 67us/step - loss: 0.1466 - accuracy: 0.9602 - val_loss: 0.1591 - val_accuracy: 0.9611\n",
      "Epoch 25/50\n",
      "34300/34300 [==============================] - 2s 63us/step - loss: 0.1434 - accuracy: 0.9611 - val_loss: 0.1519 - val_accuracy: 0.9610\n",
      "Epoch 26/50\n",
      "34300/34300 [==============================] - 2s 62us/step - loss: 0.1390 - accuracy: 0.9618 - val_loss: 0.1579 - val_accuracy: 0.9598\n",
      "Epoch 27/50\n",
      "34300/34300 [==============================] - 2s 61us/step - loss: 0.1368 - accuracy: 0.9628 - val_loss: 0.1586 - val_accuracy: 0.9591\n",
      "Epoch 28/50\n",
      "34300/34300 [==============================] - 2s 62us/step - loss: 0.1412 - accuracy: 0.9623 - val_loss: 0.1607 - val_accuracy: 0.9591\n",
      "Epoch 29/50\n",
      "34300/34300 [==============================] - 2s 67us/step - loss: 0.1375 - accuracy: 0.9626 - val_loss: 0.1571 - val_accuracy: 0.9610\n",
      "Epoch 30/50\n",
      "34300/34300 [==============================] - 2s 64us/step - loss: 0.1286 - accuracy: 0.9651 - val_loss: 0.1563 - val_accuracy: 0.9607\n",
      "Epoch 31/50\n",
      "34300/34300 [==============================] - 2s 65us/step - loss: 0.1296 - accuracy: 0.9650 - val_loss: 0.1639 - val_accuracy: 0.9601\n",
      "Epoch 32/50\n",
      "34300/34300 [==============================] - 2s 67us/step - loss: 0.1300 - accuracy: 0.9651 - val_loss: 0.1507 - val_accuracy: 0.9616\n",
      "Epoch 33/50\n",
      "34300/34300 [==============================] - 2s 64us/step - loss: 0.1259 - accuracy: 0.9658 - val_loss: 0.1585 - val_accuracy: 0.9601\n",
      "Epoch 34/50\n",
      "34300/34300 [==============================] - 2s 61us/step - loss: 0.1220 - accuracy: 0.9659 - val_loss: 0.1617 - val_accuracy: 0.9613\n",
      "Epoch 35/50\n",
      "34300/34300 [==============================] - 2s 61us/step - loss: 0.1249 - accuracy: 0.9664 - val_loss: 0.1559 - val_accuracy: 0.9614\n",
      "Epoch 36/50\n",
      "34300/34300 [==============================] - 2s 60us/step - loss: 0.1199 - accuracy: 0.9682 - val_loss: 0.1685 - val_accuracy: 0.9599\n",
      "Epoch 37/50\n",
      "34300/34300 [==============================] - 2s 59us/step - loss: 0.1180 - accuracy: 0.9691 - val_loss: 0.1609 - val_accuracy: 0.9600\n",
      "Epoch 38/50\n",
      "34300/34300 [==============================] - 2s 59us/step - loss: 0.1121 - accuracy: 0.9690 - val_loss: 0.1596 - val_accuracy: 0.9592\n",
      "Epoch 39/50\n",
      "34300/34300 [==============================] - 2s 59us/step - loss: 0.1133 - accuracy: 0.9683 - val_loss: 0.1620 - val_accuracy: 0.9614\n",
      "Epoch 40/50\n",
      "34300/34300 [==============================] - 2s 59us/step - loss: 0.1155 - accuracy: 0.9681 - val_loss: 0.1492 - val_accuracy: 0.9616\n",
      "Epoch 41/50\n",
      "34300/34300 [==============================] - 2s 60us/step - loss: 0.1188 - accuracy: 0.9691 - val_loss: 0.1539 - val_accuracy: 0.9618\n",
      "Epoch 42/50\n",
      "34300/34300 [==============================] - 2s 61us/step - loss: 0.1141 - accuracy: 0.9686 - val_loss: 0.1650 - val_accuracy: 0.9590\n",
      "Epoch 43/50\n",
      "34300/34300 [==============================] - 2s 63us/step - loss: 0.1115 - accuracy: 0.9693 - val_loss: 0.1583 - val_accuracy: 0.9617\n",
      "Epoch 44/50\n",
      "34300/34300 [==============================] - 2s 63us/step - loss: 0.1080 - accuracy: 0.9706 - val_loss: 0.1586 - val_accuracy: 0.9614\n",
      "Epoch 45/50\n",
      "34300/34300 [==============================] - 2s 63us/step - loss: 0.1034 - accuracy: 0.9721 - val_loss: 0.1655 - val_accuracy: 0.9606\n",
      "Epoch 46/50\n",
      "34300/34300 [==============================] - 2s 62us/step - loss: 0.1148 - accuracy: 0.9680 - val_loss: 0.1551 - val_accuracy: 0.9620\n",
      "Epoch 47/50\n",
      "34300/34300 [==============================] - 2s 62us/step - loss: 0.1066 - accuracy: 0.9717 - val_loss: 0.1568 - val_accuracy: 0.9619\n",
      "Epoch 48/50\n",
      "34300/34300 [==============================] - 2s 60us/step - loss: 0.1113 - accuracy: 0.9694 - val_loss: 0.1515 - val_accuracy: 0.9637\n",
      "Epoch 49/50\n",
      "34300/34300 [==============================] - 2s 59us/step - loss: 0.1061 - accuracy: 0.9712 - val_loss: 0.1540 - val_accuracy: 0.9635\n",
      "Epoch 50/50\n",
      "34300/34300 [==============================] - 2s 60us/step - loss: 0.1049 - accuracy: 0.9711 - val_loss: 0.1618 - val_accuracy: 0.9629\n"
     ]
    }
   ],
   "source": [
    "deep_model.compile(loss='categorical_crossentropy', optimizer='adam', metrics=['accuracy']) \n",
    "trained_model_5d_with_drop = deep_model.fit(train_x, train_y, epochs=epochs, batch_size=batch_size, validation_data=(val_x, val_y))"
   ]
  },
  {
   "cell_type": "code",
   "execution_count": 80,
   "metadata": {},
   "outputs": [
    {
     "name": "stderr",
     "output_type": "stream",
     "text": [
      "C:\\Users\\hp\\Anaconda3\\lib\\site-packages\\ipykernel_launcher.py:11: UserWarning: Update your `Dense` call to the Keras 2 API: `Dense(input_dim=784, activation=\"relu\", units=500)`\n",
      "  # This is added back by InteractiveShellApp.init_path()\n",
      "C:\\Users\\hp\\Anaconda3\\lib\\site-packages\\ipykernel_launcher.py:12: UserWarning: Update your `Dense` call to the Keras 2 API: `Dense(input_dim=500, activation=\"relu\", units=500)`\n",
      "  if sys.path[0] == '':\n",
      "C:\\Users\\hp\\Anaconda3\\lib\\site-packages\\ipykernel_launcher.py:13: UserWarning: Update your `Dense` call to the Keras 2 API: `Dense(input_dim=500, activation=\"relu\", units=500)`\n",
      "  del sys.path[0]\n",
      "C:\\Users\\hp\\Anaconda3\\lib\\site-packages\\ipykernel_launcher.py:14: UserWarning: Update your `Dense` call to the Keras 2 API: `Dense(input_dim=500, activation=\"relu\", units=500)`\n",
      "  \n",
      "C:\\Users\\hp\\Anaconda3\\lib\\site-packages\\ipykernel_launcher.py:15: UserWarning: Update your `Dense` call to the Keras 2 API: `Dense(input_dim=500, activation=\"relu\", units=500)`\n",
      "  from ipykernel import kernelapp as app\n",
      "C:\\Users\\hp\\Anaconda3\\lib\\site-packages\\ipykernel_launcher.py:16: UserWarning: Update your `Dense` call to the Keras 2 API: `Dense(input_dim=500, activation=\"softmax\", units=10)`\n",
      "  app.launch_new_instance()\n"
     ]
    }
   ],
   "source": [
    "#make model deep and wide both\n",
    "input_num_units = 784\n",
    "hidden1_num_units = 500 \n",
    "hidden2_num_units = 500 \n",
    "hidden3_num_units = 500 \n",
    "hidden4_num_units = 500 \n",
    "hidden5_num_units = 500 \n",
    "output_num_units = 10 \n",
    "epochs = 25 \n",
    "batch_size = 128 \n",
    "wide_n_deep_model = Sequential([ Dense(output_dim=hidden1_num_units, input_dim=input_num_units, activation='relu'), Dropout(0.2), \n",
    "                              Dense(output_dim=hidden2_num_units, input_dim=hidden1_num_units, activation='relu'), Dropout(0.2),\n",
    "                              Dense(output_dim=hidden3_num_units, input_dim=hidden2_num_units, activation='relu'), Dropout(0.2),\n",
    "                              Dense(output_dim=hidden4_num_units, input_dim=hidden3_num_units, activation='relu'), Dropout(0.2), \n",
    "                              Dense(output_dim=hidden5_num_units, input_dim=hidden4_num_units, activation='relu'), Dropout(0.2), \n",
    "                              Dense(output_dim=output_num_units, input_dim=hidden5_num_units, activation='softmax'), ])"
   ]
  },
  {
   "cell_type": "code",
   "execution_count": 81,
   "metadata": {},
   "outputs": [
    {
     "name": "stdout",
     "output_type": "stream",
     "text": [
      "Train on 34300 samples, validate on 14700 samples\n",
      "Epoch 1/25\n",
      "34300/34300 [==============================] - 17s 485us/step - loss: 0.3825 - accuracy: 0.8815 - val_loss: 0.1913 - val_accuracy: 0.9448\n",
      "Epoch 2/25\n",
      "34300/34300 [==============================] - 18s 521us/step - loss: 0.1630 - accuracy: 0.9513 - val_loss: 0.1455 - val_accuracy: 0.9586\n",
      "Epoch 3/25\n",
      "34300/34300 [==============================] - 19s 550us/step - loss: 0.1143 - accuracy: 0.9659 - val_loss: 0.1170 - val_accuracy: 0.9669\n",
      "Epoch 4/25\n",
      "34300/34300 [==============================] - 19s 553us/step - loss: 0.0944 - accuracy: 0.9730 - val_loss: 0.1141 - val_accuracy: 0.9693\n",
      "Epoch 5/25\n",
      "34300/34300 [==============================] - 17s 492us/step - loss: 0.0800 - accuracy: 0.9768 - val_loss: 0.1116 - val_accuracy: 0.9705\n",
      "Epoch 6/25\n",
      "34300/34300 [==============================] - 16s 466us/step - loss: 0.0708 - accuracy: 0.9785 - val_loss: 0.0993 - val_accuracy: 0.9725\n",
      "Epoch 7/25\n",
      "34300/34300 [==============================] - 16s 472us/step - loss: 0.0612 - accuracy: 0.9814 - val_loss: 0.1067 - val_accuracy: 0.9710\n",
      "Epoch 8/25\n",
      "34300/34300 [==============================] - 16s 474us/step - loss: 0.0586 - accuracy: 0.9827 - val_loss: 0.1255 - val_accuracy: 0.9696\n",
      "Epoch 9/25\n",
      "34300/34300 [==============================] - 16s 462us/step - loss: 0.0500 - accuracy: 0.9856 - val_loss: 0.1051 - val_accuracy: 0.9735\n",
      "Epoch 10/25\n",
      "34300/34300 [==============================] - 16s 464us/step - loss: 0.0466 - accuracy: 0.9861 - val_loss: 0.0995 - val_accuracy: 0.9741\n",
      "Epoch 11/25\n",
      "34300/34300 [==============================] - 16s 467us/step - loss: 0.0386 - accuracy: 0.9878 - val_loss: 0.1095 - val_accuracy: 0.9741\n",
      "Epoch 12/25\n",
      "34300/34300 [==============================] - 16s 472us/step - loss: 0.0427 - accuracy: 0.9880 - val_loss: 0.1214 - val_accuracy: 0.9697\n",
      "Epoch 13/25\n",
      "34300/34300 [==============================] - 15s 444us/step - loss: 0.0411 - accuracy: 0.9877 - val_loss: 0.1126 - val_accuracy: 0.9737\n",
      "Epoch 14/25\n",
      "34300/34300 [==============================] - 16s 464us/step - loss: 0.0321 - accuracy: 0.9905 - val_loss: 0.1015 - val_accuracy: 0.9762\n",
      "Epoch 15/25\n",
      "34300/34300 [==============================] - 16s 468us/step - loss: 0.0365 - accuracy: 0.9896 - val_loss: 0.0987 - val_accuracy: 0.9752\n",
      "Epoch 16/25\n",
      "34300/34300 [==============================] - 16s 465us/step - loss: 0.0326 - accuracy: 0.9905 - val_loss: 0.1354 - val_accuracy: 0.9748\n",
      "Epoch 17/25\n",
      "34300/34300 [==============================] - 16s 459us/step - loss: 0.0354 - accuracy: 0.9907 - val_loss: 0.1107 - val_accuracy: 0.9765\n",
      "Epoch 18/25\n",
      "34300/34300 [==============================] - 17s 509us/step - loss: 0.0290 - accuracy: 0.9916 - val_loss: 0.1187 - val_accuracy: 0.9760\n",
      "Epoch 19/25\n",
      "34300/34300 [==============================] - 19s 565us/step - loss: 0.0272 - accuracy: 0.9922 - val_loss: 0.1310 - val_accuracy: 0.9721\n",
      "Epoch 20/25\n",
      "34300/34300 [==============================] - 18s 521us/step - loss: 0.0323 - accuracy: 0.9907 - val_loss: 0.1111 - val_accuracy: 0.9746\n",
      "Epoch 21/25\n",
      "34300/34300 [==============================] - 17s 484us/step - loss: 0.0264 - accuracy: 0.9932 - val_loss: 0.1345 - val_accuracy: 0.9725\n",
      "Epoch 22/25\n",
      "34300/34300 [==============================] - 18s 517us/step - loss: 0.0314 - accuracy: 0.9919 - val_loss: 0.1297 - val_accuracy: 0.9739\n",
      "Epoch 23/25\n",
      "34300/34300 [==============================] - 17s 486us/step - loss: 0.0255 - accuracy: 0.9925 - val_loss: 0.1423 - val_accuracy: 0.9741\n",
      "Epoch 24/25\n",
      "34300/34300 [==============================] - 16s 477us/step - loss: 0.0298 - accuracy: 0.9918 - val_loss: 0.1188 - val_accuracy: 0.9793\n",
      "Epoch 25/25\n",
      "34300/34300 [==============================] - 16s 465us/step - loss: 0.0241 - accuracy: 0.9933 - val_loss: 0.1279 - val_accuracy: 0.9754\n"
     ]
    }
   ],
   "source": [
    "wide_n_deep_model.compile(loss='categorical_crossentropy', optimizer='adam', metrics=['accuracy']) \n",
    "trained_model_deep_n_wide = wide_n_deep_model.fit(train_x, train_y, epochs=epochs, batch_size=batch_size, validation_data=(val_x, val_y))\n"
   ]
  },
  {
   "cell_type": "code",
   "execution_count": 85,
   "metadata": {},
   "outputs": [],
   "source": [
    "pred = wide_n_deep_model.predict_classes(test_x) \n",
    "sample_submission.filename = test.filename\n",
    "sample_submission.label = pred \n",
    "sample_submission.to_csv(os.path.join(data_dir, 'Sample_Submission.csv'), index=False)"
   ]
  },
  {
   "cell_type": "code",
   "execution_count": 86,
   "metadata": {},
   "outputs": [
    {
     "name": "stderr",
     "output_type": "stream",
     "text": [
      "C:\\Users\\hp\\Anaconda3\\lib\\site-packages\\ipykernel_launcher.py:18: UserWarning: Update your `Conv2D` call to the Keras 2 API: `Conv2D(25, (5, 5), activation=\"relu\")`\n",
      "C:\\Users\\hp\\Anaconda3\\lib\\site-packages\\ipykernel_launcher.py:19: UserWarning: Update your `Conv2D` call to the Keras 2 API: `Conv2D(25, (5, 5), activation=\"relu\")`\n",
      "C:\\Users\\hp\\Anaconda3\\lib\\site-packages\\ipykernel_launcher.py:20: UserWarning: Update your `Conv2D` call to the Keras 2 API: `Conv2D(25, (4, 4), activation=\"relu\")`\n",
      "C:\\Users\\hp\\Anaconda3\\lib\\site-packages\\ipykernel_launcher.py:22: UserWarning: Update your `Dense` call to the Keras 2 API: `Dense(activation=\"relu\", units=50)`\n",
      "C:\\Users\\hp\\Anaconda3\\lib\\site-packages\\ipykernel_launcher.py:23: UserWarning: Update your `Dense` call to the Keras 2 API: `Dense(input_dim=50, activation=\"softmax\", units=10)`\n",
      "C:\\Users\\hp\\Anaconda3\\lib\\site-packages\\ipykernel_launcher.py:25: UserWarning: The `nb_epoch` argument in `fit` has been renamed `epochs`.\n"
     ]
    },
    {
     "name": "stdout",
     "output_type": "stream",
     "text": [
      "Train on 34300 samples, validate on 14700 samples\n",
      "Epoch 1/5\n",
      "34300/34300 [==============================] - 32s 938us/step - loss: 0.4907 - accuracy: 0.8469 - val_loss: 0.1677 - val_accuracy: 0.9510\n",
      "Epoch 2/5\n",
      "34300/34300 [==============================] - 33s 968us/step - loss: 0.1259 - accuracy: 0.9601 - val_loss: 0.1036 - val_accuracy: 0.9698\n",
      "Epoch 3/5\n",
      "34300/34300 [==============================] - 29s 856us/step - loss: 0.0867 - accuracy: 0.9722 - val_loss: 0.0822 - val_accuracy: 0.9765\n",
      "Epoch 4/5\n",
      "34300/34300 [==============================] - 26s 756us/step - loss: 0.0667 - accuracy: 0.9788 - val_loss: 0.0701 - val_accuracy: 0.9790\n",
      "Epoch 5/5\n",
      "34300/34300 [==============================] - 24s 689us/step - loss: 0.0553 - accuracy: 0.9819 - val_loss: 0.0579 - val_accuracy: 0.9812\n"
     ]
    }
   ],
   "source": [
    "#CNN \n",
    "\n",
    "\n",
    "# reshape data \n",
    "train_x_temp = train_x.reshape(-1, 28, 28, 1)\n",
    "val_x_temp = val_x.reshape(-1, 28, 28, 1) \n",
    "# define vars\n",
    "input_shape = (784,) \n",
    "input_reshape = (28, 28, 1) \n",
    "conv_num_filters = 5 \n",
    "conv_filter_size = 5 \n",
    "pool_size = (2, 2) \n",
    "hidden_num_units = 50 \n",
    "output_num_units = 10 \n",
    "epochs = 5 \n",
    "batch_size = 128 \n",
    "cnn_model = Sequential([ InputLayer(input_shape=input_reshape), \n",
    "                        Convolution2D(25, 5, 5, activation='relu'), MaxPooling2D(pool_size=pool_size), \n",
    "                        Convolution2D(25, 5, 5, activation='relu'), MaxPooling2D(pool_size=pool_size),  \n",
    "                        Convolution2D(25, 4, 4, activation='relu'), \n",
    "                        Flatten(),  \n",
    "                        Dense(output_dim=hidden_num_units, activation='relu'),  \n",
    "                        Dense(output_dim=output_num_units, input_dim=hidden_num_units, activation='softmax'), ]) \n",
    "cnn_model.compile(loss='categorical_crossentropy', optimizer='adam', metrics=['accuracy']) \n",
    "trained_model_conv = cnn_model.fit(train_x_temp, train_y, nb_epoch=epochs, batch_size=batch_size, validation_data=(val_x_temp, val_y))"
   ]
  },
  {
   "cell_type": "code",
   "execution_count": null,
   "metadata": {},
   "outputs": [],
   "source": []
  }
 ],
 "metadata": {
  "kernelspec": {
   "display_name": "Python 3",
   "language": "python",
   "name": "python3"
  }
 },
 "nbformat": 4,
 "nbformat_minor": 2
}
